{
  "nbformat": 4,
  "nbformat_minor": 0,
  "metadata": {
    "colab": {
      "provenance": []
    },
    "kernelspec": {
      "name": "python3",
      "display_name": "Python 3"
    },
    "language_info": {
      "name": "python"
    }
  },
  "cells": [
    {
      "cell_type": "code",
      "execution_count": 1,
      "metadata": {
        "colab": {
          "base_uri": "https://localhost:8080/"
        },
        "id": "bw8Tmb-u-39O",
        "outputId": "c8061cae-6234-43b6-c78d-6e4cf37b325a"
      },
      "outputs": [
        {
          "output_type": "stream",
          "name": "stdout",
          "text": [
            "Mounted at /content/drive\n"
          ]
        }
      ],
      "source": [
        "from google.colab import drive\n",
        "drive.mount('/content/drive')"
      ]
    },
    {
      "cell_type": "code",
      "source": [],
      "metadata": {
        "id": "8V2JxL80_elT"
      },
      "execution_count": null,
      "outputs": []
    },
    {
      "cell_type": "code",
      "source": [
        "import os\n",
        "from PIL import Image\n",
        "import pandas as pd\n",
        "import torch\n",
        "from torchvision import transforms\n",
        "import random\n",
        "\n",
        "# 경로 설정\n",
        "PROJECT_DIR = \"/content/drive/MyDrive\"\n",
        "IMG_DIR = f\"{PROJECT_DIR}/images\"\n",
        "CSV_PATH = f\"{PROJECT_DIR}/train.csv\"\n",
        "SAVE_DIR = f\"{PROJECT_DIR}/augmented_images\"\n",
        "os.makedirs(SAVE_DIR, exist_ok=True)\n",
        "\n",
        "# CSV 로드 및 파일명 처리\n",
        "df = pd.read_csv(CSV_PATH)\n",
        "df['filename'] = df['filename'].apply(lambda x: f\"{int(x):03}.JPG\")\n",
        "\n",
        "# 기본/증강 Transform 정의\n",
        "base_transform = transforms.Resize((224, 224))\n",
        "\n",
        "augmentation_transforms = [\n",
        "    transforms.RandomHorizontalFlip(p=1.0),\n",
        "    transforms.RandomVerticalFlip(p=1.0),\n",
        "    transforms.ColorJitter(brightness=0.4, contrast=0.4, saturation=0.4)\n",
        "]\n",
        "\n",
        "# 증강 이미지 저장\n",
        "for idx, row in df.iterrows():\n",
        "    img_path = os.path.join(IMG_DIR, row['filename'])\n",
        "    image = Image.open(img_path).convert('RGB')\n",
        "    base_image = base_transform(image)\n",
        "\n",
        "    # 원본 저장\n",
        "    base_image.save(os.path.join(SAVE_DIR, f\"{row['filename'].split('.')[0]}_orig.JPG\"))\n",
        "\n",
        "    # 증강 3개 예시 저장\n",
        "    for i in range(3):\n",
        "        aug_transform = transforms.Compose([\n",
        "            transforms.Resize((224, 224)),\n",
        "            random.choice(augmentation_transforms)\n",
        "        ])\n",
        "        aug_image = aug_transform(image)\n",
        "        aug_image.save(os.path.join(SAVE_DIR, f\"{row['filename'].split('.')[0]}_aug{i+1}.JPG\"))\n",
        "\n",
        "print(f\"✓ 증강 이미지 저장 완료: {SAVE_DIR}\")"
      ],
      "metadata": {
        "colab": {
          "base_uri": "https://localhost:8080/"
        },
        "id": "TcgJNon1BFlt",
        "outputId": "d8cdc763-029f-46f9-dd63-1a8146f7d0a0"
      },
      "execution_count": 4,
      "outputs": [
        {
          "output_type": "stream",
          "name": "stdout",
          "text": [
            "✓ 증강 이미지 저장 완료: /content/drive/MyDrive/augmented_images\n"
          ]
        }
      ]
    },
    {
      "cell_type": "code",
      "source": [],
      "metadata": {
        "id": "v1hpxrw1BHF1"
      },
      "execution_count": null,
      "outputs": []
    }
  ]
}